{
 "cells": [
  {
   "cell_type": "code",
   "execution_count": 0,
   "metadata": {
    "application/vnd.databricks.v1+cell": {
     "cellMetadata": {},
     "inputWidgets": {},
     "nuid": "1297561c-3bdc-4589-b6a9-efa7a7516f95",
     "showTitle": false,
     "title": ""
    }
   },
   "outputs": [],
   "source": [
    "\"hi\""
   ]
  }
 ],
 "metadata": {
  "application/vnd.databricks.v1+notebook": {
   "dashboards": [],
   "environmentMetadata": {
    "base_environment": "",
    "client": "1"
   },
   "language": "python",
   "notebookMetadata": {
    "pythonIndentUnit": 4
   },
   "notebookName": "say hi",
   "widgets": {}
  }
 },
 "nbformat": 4,
 "nbformat_minor": 0
}
